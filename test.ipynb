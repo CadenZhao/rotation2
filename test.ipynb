{
 "cells": [
  {
   "cell_type": "code",
   "execution_count": 401,
   "metadata": {},
   "outputs": [],
   "source": [
    "from rpy2 import robjects\n",
    "from itertools import combinations\n",
    "\n",
    "import argparse\n",
    "import numpy as np\n",
    "import pandas as pd\n",
    "import time\n",
    "import os"
   ]
  },
  {
   "cell_type": "code",
   "execution_count": 347,
   "metadata": {},
   "outputs": [],
   "source": [
    "data = pd.read_csv('./test/t180-nuclei.csv', sep=',', header=None)"
   ]
  },
  {
   "cell_type": "code",
   "execution_count": 250,
   "metadata": {},
   "outputs": [],
   "source": [
    "#compute distance\n",
    "number = data.shape[0]\n",
    "data_values = data.iloc[:,:3]\n",
    "\n",
    "df = pd.DataFrame(columns = ['cellA', 'cellB', 'distance'])\n",
    "for i in range(number):\n",
    "    for j in range(i+1, number):\n",
    "        dis = np.linalg.norm(data_values.iloc[i,:] - data_values.iloc[j,:])\n",
    "        df_row = pd.DataFrame([[data.iloc[i,3], data.iloc[j,3], dis]],\n",
    "                              columns = ['cellA', 'cellB', 'distance'])\n",
    "        df = df.append(df_row)\n",
    "        "
   ]
  },
  {
   "cell_type": "code",
   "execution_count": 235,
   "metadata": {},
   "outputs": [],
   "source": [
    "#compute distance rate\n",
    "df_rate = pd.DataFrame(columns=['cellA', 'cellB', 'distance_rate'])\n",
    "number = data.shape[0]\n",
    "data_values = data.iloc[:,:3]\n",
    "for i in range(number):\n",
    "    df_rate_ij = pd.DataFrame(columns=['cellA', 'cellB', 'distance_rate'])\n",
    "    for j in range(number):\n",
    "        dis = np.linalg.norm(data_values.iloc[i,:] - data_values.iloc[j,:])\n",
    "        df_rate_row = pd.DataFrame([[data.iloc[i,3], data.iloc[j,3], dis]],\n",
    "                          columns = ['cellA', 'cellB', 'distance_rate'])\n",
    "        df_rate_ij = df_rate_ij.append(df_rate_row)   \n",
    "    dis_ij = df_rate_ij['distance_rate']    \n",
    "    df_rate_ij['distance_rate'] =  dis_ij / dis_ij.max()     \n",
    "    df_rate = df_rate.append(df_rate_ij)    \n",
    "#remove 0 distance rate\n",
    "df_rate = df_rate[df_rate.iloc[:,2] != 0]"
   ]
  },
  {
   "cell_type": "code",
   "execution_count": null,
   "metadata": {},
   "outputs": [],
   "source": [
    "#########################################################"
   ]
  },
  {
   "cell_type": "code",
   "execution_count": 406,
   "metadata": {},
   "outputs": [
    {
     "name": "stdout",
     "output_type": "stream",
     "text": [
      "     0    1     2   3\n",
      "0  291  167  17.0  AB\n",
      "1  359  257  17.0  P1\n",
      "     0    1     2    3\n",
      "0  280  193  15.0  ABp\n",
      "1  284  160  16.0  ABa\n",
      "2  371  238  16.0   P1\n",
      "     0    1     2    3\n",
      "0  278  196  16.0  ABp\n",
      "1  286  157  15.0  ABa\n",
      "2  370  239  16.0   P1\n",
      "     0    1     2    3\n",
      "0  290  205  15.0  ABp\n",
      "1  286  160  14.0  ABa\n",
      "2  365  218  16.0  EMS\n",
      "3  378  254  16.0   P2\n",
      "     0    1     2    3\n",
      "0  293  210  14.0  ABp\n",
      "1  278  158  15.0  ABa\n",
      "2  363  211  16.0  EMS\n",
      "3  383  253  17.0   P2\n"
     ]
    }
   ],
   "source": [
    "picture_num = 5\n",
    "for n in range(picture_num):\n",
    "    data = pd.read_csv('./test/t%03d-nuclei.csv' % (n+1), sep=',', header=None)\n",
    "    print(data)"
   ]
  },
  {
   "cell_type": "code",
   "execution_count": 445,
   "metadata": {},
   "outputs": [],
   "source": [
    "picture_num = 5\n",
    "count_dict = {}\n",
    "for n in range(picture_num):\n",
    "    data = pd.read_csv('./test/t%03d-nuclei.csv' % (n+1), sep=',', header=None)\n",
    "    cell_combination = list(combinations(data.iloc[:,3],2))\n",
    "    for comb in cell_combination:\n",
    "        if comb in count_dict:\n",
    "            count_dict[comb] = count_dict[comb]+1\n",
    "        else:\n",
    "            count_dict[comb] = 1\n",
    "pair = np.array(list(count_dict.keys()))\n",
    "count = np.array(list(count_dict.values()))\n",
    "stack_array = np.vstack([pair.transpose(), count]).transpose()\n",
    "df_cotimes = pd.DataFrame(stack_array, columns=['cellA', 'cellB', 'coexistance_time'])"
   ]
  },
  {
   "cell_type": "code",
   "execution_count": 450,
   "metadata": {},
   "outputs": [
    {
     "data": {
      "text/html": [
       "<div>\n",
       "<style scoped>\n",
       "    .dataframe tbody tr th:only-of-type {\n",
       "        vertical-align: middle;\n",
       "    }\n",
       "\n",
       "    .dataframe tbody tr th {\n",
       "        vertical-align: top;\n",
       "    }\n",
       "\n",
       "    .dataframe thead th {\n",
       "        text-align: right;\n",
       "    }\n",
       "</style>\n",
       "<table border=\"1\" class=\"dataframe\">\n",
       "  <thead>\n",
       "    <tr style=\"text-align: right;\">\n",
       "      <th></th>\n",
       "      <th>cellA</th>\n",
       "      <th>cellB</th>\n",
       "      <th>coexistance_time</th>\n",
       "    </tr>\n",
       "  </thead>\n",
       "  <tbody>\n",
       "    <tr>\n",
       "      <th>0</th>\n",
       "      <td>AB</td>\n",
       "      <td>P1</td>\n",
       "      <td>1</td>\n",
       "    </tr>\n",
       "    <tr>\n",
       "      <th>1</th>\n",
       "      <td>ABp</td>\n",
       "      <td>ABa</td>\n",
       "      <td>4</td>\n",
       "    </tr>\n",
       "    <tr>\n",
       "      <th>2</th>\n",
       "      <td>ABp</td>\n",
       "      <td>P1</td>\n",
       "      <td>2</td>\n",
       "    </tr>\n",
       "    <tr>\n",
       "      <th>3</th>\n",
       "      <td>ABa</td>\n",
       "      <td>P1</td>\n",
       "      <td>2</td>\n",
       "    </tr>\n",
       "    <tr>\n",
       "      <th>4</th>\n",
       "      <td>ABp</td>\n",
       "      <td>EMS</td>\n",
       "      <td>2</td>\n",
       "    </tr>\n",
       "    <tr>\n",
       "      <th>5</th>\n",
       "      <td>ABp</td>\n",
       "      <td>P2</td>\n",
       "      <td>2</td>\n",
       "    </tr>\n",
       "    <tr>\n",
       "      <th>6</th>\n",
       "      <td>ABa</td>\n",
       "      <td>EMS</td>\n",
       "      <td>2</td>\n",
       "    </tr>\n",
       "    <tr>\n",
       "      <th>7</th>\n",
       "      <td>ABa</td>\n",
       "      <td>P2</td>\n",
       "      <td>2</td>\n",
       "    </tr>\n",
       "    <tr>\n",
       "      <th>8</th>\n",
       "      <td>EMS</td>\n",
       "      <td>P2</td>\n",
       "      <td>2</td>\n",
       "    </tr>\n",
       "  </tbody>\n",
       "</table>\n",
       "</div>"
      ],
      "text/plain": [
       "  cellA cellB coexistance_time\n",
       "0    AB    P1                1\n",
       "1   ABp   ABa                4\n",
       "2   ABp    P1                2\n",
       "3   ABa    P1                2\n",
       "4   ABp   EMS                2\n",
       "5   ABp    P2                2\n",
       "6   ABa   EMS                2\n",
       "7   ABa    P2                2\n",
       "8   EMS    P2                2"
      ]
     },
     "execution_count": 450,
     "metadata": {},
     "output_type": "execute_result"
    }
   ],
   "source": [
    "df_cotimes"
   ]
  },
  {
   "cell_type": "code",
   "execution_count": 447,
   "metadata": {},
   "outputs": [],
   "source": [
    "df_rate = df_cotimes.copy()"
   ]
  },
  {
   "cell_type": "code",
   "execution_count": 448,
   "metadata": {},
   "outputs": [],
   "source": [
    "df_rate.iloc[:,2] = pd.to_numeric(df_rate.iloc[:,2]) / 180"
   ]
  },
  {
   "cell_type": "code",
   "execution_count": 451,
   "metadata": {},
   "outputs": [
    {
     "data": {
      "text/html": [
       "<div>\n",
       "<style scoped>\n",
       "    .dataframe tbody tr th:only-of-type {\n",
       "        vertical-align: middle;\n",
       "    }\n",
       "\n",
       "    .dataframe tbody tr th {\n",
       "        vertical-align: top;\n",
       "    }\n",
       "\n",
       "    .dataframe thead th {\n",
       "        text-align: right;\n",
       "    }\n",
       "</style>\n",
       "<table border=\"1\" class=\"dataframe\">\n",
       "  <thead>\n",
       "    <tr style=\"text-align: right;\">\n",
       "      <th></th>\n",
       "      <th>cellA</th>\n",
       "      <th>cellB</th>\n",
       "      <th>coexistance_time</th>\n",
       "    </tr>\n",
       "  </thead>\n",
       "  <tbody>\n",
       "    <tr>\n",
       "      <th>0</th>\n",
       "      <td>AB</td>\n",
       "      <td>P1</td>\n",
       "      <td>0.005556</td>\n",
       "    </tr>\n",
       "    <tr>\n",
       "      <th>1</th>\n",
       "      <td>ABp</td>\n",
       "      <td>ABa</td>\n",
       "      <td>0.022222</td>\n",
       "    </tr>\n",
       "    <tr>\n",
       "      <th>2</th>\n",
       "      <td>ABp</td>\n",
       "      <td>P1</td>\n",
       "      <td>0.011111</td>\n",
       "    </tr>\n",
       "    <tr>\n",
       "      <th>3</th>\n",
       "      <td>ABa</td>\n",
       "      <td>P1</td>\n",
       "      <td>0.011111</td>\n",
       "    </tr>\n",
       "    <tr>\n",
       "      <th>4</th>\n",
       "      <td>ABp</td>\n",
       "      <td>EMS</td>\n",
       "      <td>0.011111</td>\n",
       "    </tr>\n",
       "    <tr>\n",
       "      <th>5</th>\n",
       "      <td>ABp</td>\n",
       "      <td>P2</td>\n",
       "      <td>0.011111</td>\n",
       "    </tr>\n",
       "    <tr>\n",
       "      <th>6</th>\n",
       "      <td>ABa</td>\n",
       "      <td>EMS</td>\n",
       "      <td>0.011111</td>\n",
       "    </tr>\n",
       "    <tr>\n",
       "      <th>7</th>\n",
       "      <td>ABa</td>\n",
       "      <td>P2</td>\n",
       "      <td>0.011111</td>\n",
       "    </tr>\n",
       "    <tr>\n",
       "      <th>8</th>\n",
       "      <td>EMS</td>\n",
       "      <td>P2</td>\n",
       "      <td>0.011111</td>\n",
       "    </tr>\n",
       "  </tbody>\n",
       "</table>\n",
       "</div>"
      ],
      "text/plain": [
       "  cellA cellB  coexistance_time\n",
       "0    AB    P1          0.005556\n",
       "1   ABp   ABa          0.022222\n",
       "2   ABp    P1          0.011111\n",
       "3   ABa    P1          0.011111\n",
       "4   ABp   EMS          0.011111\n",
       "5   ABp    P2          0.011111\n",
       "6   ABa   EMS          0.011111\n",
       "7   ABa    P2          0.011111\n",
       "8   EMS    P2          0.011111"
      ]
     },
     "execution_count": 451,
     "metadata": {},
     "output_type": "execute_result"
    }
   ],
   "source": [
    "df_rate"
   ]
  },
  {
   "cell_type": "code",
   "execution_count": null,
   "metadata": {},
   "outputs": [],
   "source": [
    "df_rate.i"
   ]
  },
  {
   "cell_type": "code",
   "execution_count": null,
   "metadata": {},
   "outputs": [],
   "source": []
  }
 ],
 "metadata": {
  "kernelspec": {
   "display_name": "Python 3",
   "language": "python",
   "name": "python3"
  },
  "language_info": {
   "codemirror_mode": {
    "name": "ipython",
    "version": 3
   },
   "file_extension": ".py",
   "mimetype": "text/x-python",
   "name": "python",
   "nbconvert_exporter": "python",
   "pygments_lexer": "ipython3",
   "version": "3.6.5"
  }
 },
 "nbformat": 4,
 "nbformat_minor": 2
}
